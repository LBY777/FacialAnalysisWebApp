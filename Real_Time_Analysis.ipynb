{
 "cells": [
  {
   "cell_type": "code",
   "execution_count": 2,
   "id": "8773999e",
   "metadata": {},
   "outputs": [],
   "source": [
    "from app.pipeline import pipeline, real_time\n",
    "import matplotlib.pyplot as plt\n",
    "import cv2"
   ]
  },
  {
   "cell_type": "markdown",
   "id": "97b37f8c",
   "metadata": {},
   "source": [
    "## Real Time Gender Recognition\n",
    "- Given a path to a video, will predict on the video.\n",
    "- Press 'q' to stop."
   ]
  },
  {
   "cell_type": "code",
   "execution_count": 3,
   "id": "e45fea9e",
   "metadata": {},
   "outputs": [],
   "source": [
    "real_time('./static/images/home.mp4')"
   ]
  },
  {
   "cell_type": "markdown",
   "id": "e9641aea",
   "metadata": {},
   "source": [
    "- Given no argument, will predict on video captured from camera.\n",
    "- Similarly, press 'q' to stop."
   ]
  },
  {
   "cell_type": "code",
   "execution_count": 4,
   "id": "bdad68ed",
   "metadata": {},
   "outputs": [],
   "source": [
    "real_time()"
   ]
  }
 ],
 "metadata": {
  "kernelspec": {
   "display_name": "Python 3.8.15 ('jntm')",
   "language": "python",
   "name": "python3"
  },
  "language_info": {
   "codemirror_mode": {
    "name": "ipython",
    "version": 3
   },
   "file_extension": ".py",
   "mimetype": "text/x-python",
   "name": "python",
   "nbconvert_exporter": "python",
   "pygments_lexer": "ipython3",
   "version": "3.8.15"
  },
  "vscode": {
   "interpreter": {
    "hash": "c57066ad57f4f2e7e0a722ee8ce52ec5eba8ed49ccafb3ffebd9bb1a46f4742f"
   }
  }
 },
 "nbformat": 4,
 "nbformat_minor": 5
}
