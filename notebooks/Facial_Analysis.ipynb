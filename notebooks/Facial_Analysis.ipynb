{
 "cells": [
  {
   "cell_type": "markdown",
   "id": "0b7125c2",
   "metadata": {},
   "source": [
    "### Pipeline"
   ]
  },
  {
   "cell_type": "code",
   "execution_count": 10,
   "id": "8773999e",
   "metadata": {},
   "outputs": [
    {
     "ename": "ModuleNotFoundError",
     "evalue": "No module named 'emotion_gender_recognition'",
     "output_type": "error",
     "traceback": [
      "\u001b[0;31m---------------------------------------------------------------------------\u001b[0m",
      "\u001b[0;31mModuleNotFoundError\u001b[0m                       Traceback (most recent call last)",
      "Cell \u001b[0;32mIn [10], line 3\u001b[0m\n\u001b[1;32m      1\u001b[0m \u001b[39mimport\u001b[39;00m \u001b[39msys\u001b[39;00m\n\u001b[1;32m      2\u001b[0m sys\u001b[39m.\u001b[39mpath\u001b[39m.\u001b[39mappend(\u001b[39m'\u001b[39m\u001b[39m../\u001b[39m\u001b[39m'\u001b[39m)\n\u001b[0;32m----> 3\u001b[0m \u001b[39mfrom\u001b[39;00m \u001b[39memotion_gender_recognition\u001b[39;00m \u001b[39mimport\u001b[39;00m pipeline, real_time\n\u001b[1;32m      4\u001b[0m \u001b[39mimport\u001b[39;00m \u001b[39mmatplotlib\u001b[39;00m\u001b[39m.\u001b[39;00m\u001b[39mpyplot\u001b[39;00m \u001b[39mas\u001b[39;00m \u001b[39mplt\u001b[39;00m\n\u001b[1;32m      5\u001b[0m \u001b[39mimport\u001b[39;00m \u001b[39mcv2\u001b[39;00m\n",
      "\u001b[0;31mModuleNotFoundError\u001b[0m: No module named 'emotion_gender_recognition'"
     ]
    }
   ],
   "source": [
    "import sys\n",
    "sys.path.append('../')\n",
    "from emotion_gender_recognition import pipeline, real_time\n",
    "import matplotlib.pyplot as plt\n",
    "import cv2"
   ]
  },
  {
   "cell_type": "code",
   "execution_count": 8,
   "id": "9be9804a",
   "metadata": {},
   "outputs": [
    {
     "name": "stdout",
     "output_type": "stream",
     "text": [
      "Facial_Analysis.ipynb     emotion_recognition.ipynb gender_recognition.ipynb\n"
     ]
    }
   ],
   "source": [
    "!ls"
   ]
  },
  {
   "cell_type": "code",
   "execution_count": 9,
   "id": "ca23b3b3",
   "metadata": {},
   "outputs": [],
   "source": [
    "!cd ../app"
   ]
  },
  {
   "cell_type": "markdown",
   "id": "97b37f8c",
   "metadata": {},
   "source": [
    "## Real Time Gender Recognition\n",
    "- Given a path to a video, will predict on the video.\n",
    "- Press 'q' to stop."
   ]
  },
  {
   "cell_type": "code",
   "execution_count": 3,
   "id": "e45fea9e",
   "metadata": {},
   "outputs": [],
   "source": [
    "real_time('./test_images/video.mp4')"
   ]
  },
  {
   "cell_type": "markdown",
   "id": "e9641aea",
   "metadata": {},
   "source": [
    "- Given no argument, will predict on video captured from camera.\n",
    "- Similarly, press 'q' to stop."
   ]
  },
  {
   "cell_type": "code",
   "execution_count": 4,
   "id": "bdad68ed",
   "metadata": {},
   "outputs": [],
   "source": [
    "real_time()"
   ]
  }
 ],
 "metadata": {
  "kernelspec": {
   "display_name": "Python 3.8.15 ('jntm')",
   "language": "python",
   "name": "python3"
  },
  "language_info": {
   "codemirror_mode": {
    "name": "ipython",
    "version": 3
   },
   "file_extension": ".py",
   "mimetype": "text/x-python",
   "name": "python",
   "nbconvert_exporter": "python",
   "pygments_lexer": "ipython3",
   "version": "3.8.15"
  },
  "vscode": {
   "interpreter": {
    "hash": "c57066ad57f4f2e7e0a722ee8ce52ec5eba8ed49ccafb3ffebd9bb1a46f4742f"
   }
  }
 },
 "nbformat": 4,
 "nbformat_minor": 5
}
